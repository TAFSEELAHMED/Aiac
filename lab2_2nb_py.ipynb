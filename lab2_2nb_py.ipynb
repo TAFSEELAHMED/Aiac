{
  "nbformat": 4,
  "nbformat_minor": 0,
  "metadata": {
    "colab": {
      "provenance": [],
      "include_colab_link": true
    },
    "kernelspec": {
      "name": "python3",
      "display_name": "Python 3"
    },
    "language_info": {
      "name": "python"
    }
  },
  "cells": [
    {
      "cell_type": "markdown",
      "metadata": {
        "id": "view-in-github",
        "colab_type": "text"
      },
      "source": [
        "<a href=\"https://colab.research.google.com/github/TAFSEELAHMED/Aiac/blob/main/lab2_2nb_py.ipynb\" target=\"_parent\"><img src=\"https://colab.research.google.com/assets/colab-badge.svg\" alt=\"Open In Colab\"/></a>"
      ]
    },
    {
      "cell_type": "markdown",
      "source": [
        "Task1:Write a function that filters out all negative numbers from a given list\n",
        "Prompt:write a python code to filter all negative numbers from a list"
      ],
      "metadata": {
        "id": "saIMqdY1Ols_"
      }
    },
    {
      "cell_type": "code",
      "source": [
        "def filter_negative_numbers(input_list):\n",
        "  \"\"\"\n",
        "  Filters out all negative numbers from a given list.\n",
        "\n",
        "  Args:\n",
        "    input_list: A list of numbers.\n",
        "\n",
        "  Returns:\n",
        "    A new list containing only the non-negative numbers from the input list.\n",
        "  \"\"\"\n",
        "  return [number for number in input_list if number >= 0]\n",
        "\n",
        "# Example usage:\n",
        "my_list = [1, -2, 3, -4, 5, 0, -6]\n",
        "filtered_list = filter_negative_numbers(my_list)\n",
        "print(filtered_list)"
      ],
      "metadata": {
        "colab": {
          "base_uri": "https://localhost:8080/"
        },
        "id": "cn40oLbOPphG",
        "outputId": "8b85b58e-b409-4515-9b02-4f1de3d84e0f"
      },
      "execution_count": 1,
      "outputs": [
        {
          "output_type": "stream",
          "name": "stdout",
          "text": [
            "[1, 3, 5, 0]\n"
          ]
        }
      ]
    },
    {
      "cell_type": "markdown",
      "source": [
        "Explanation:\n",
        "This code defines a Python function called filter_negative_numbers that takes a list of numbers as input. It uses a list comprehension to create a new list containing only the numbers from the input list that are greater than or equal to zero (i.e., non-negative numbers). The code then demonstrates how to use this function with an example list my_list and prints the resulting filtered_list."
      ],
      "metadata": {
        "id": "R9y8QZbhQIQy"
      }
    },
    {
      "cell_type": "markdown",
      "source": [
        "Task2:generate code that reads a text file and counts the frequency of each word.\n",
        "Prompt:generate a python code that reads a text file and count the frequency of each word."
      ],
      "metadata": {
        "id": "xUtGiCUtSTX4"
      }
    },
    {
      "cell_type": "code",
      "source": [
        "from collections import Counter\n",
        "import re\n",
        "\n",
        "def count_word_frequency(filename):\n",
        "  \"\"\"\n",
        "  Reads a text file and counts the frequency of each word.\n",
        "\n",
        "  Args:\n",
        "    filename: The path to the text file.\n",
        "\n",
        "  Returns:\n",
        "    A dictionary where keys are words and values are their frequencies.\n",
        "  \"\"\"\n",
        "  word_counts = Counter()\n",
        "  with open(filename, 'r') as f:\n",
        "    for line in f:\n",
        "      # Remove punctuation and convert to lowercase\n",
        "      words = re.findall(r'\\b\\w+\\b', line.lower())\n",
        "      word_counts.update(words)\n",
        "  return word_counts\n",
        "\n",
        "# Example usage:\n",
        "# Create a dummy text file for demonstration\n",
        "with open('sample.txt', 'w') as f:\n",
        "  f.write(\"This is a sample text file.\\n\")\n",
        "  f.write(\"This file is just a sample.\\n\")\n",
        "\n",
        "word_frequencies = count_word_frequency('sample.txt')\n",
        "print(word_frequencies)"
      ],
      "metadata": {
        "colab": {
          "base_uri": "https://localhost:8080/"
        },
        "id": "EmMolm74R1g3",
        "outputId": "13bc6c0c-f312-49ab-a223-0d87fb23547a"
      },
      "execution_count": 2,
      "outputs": [
        {
          "output_type": "stream",
          "name": "stdout",
          "text": [
            "Counter({'this': 2, 'is': 2, 'a': 2, 'sample': 2, 'file': 2, 'text': 1, 'just': 1})\n"
          ]
        }
      ]
    },
    {
      "cell_type": "markdown",
      "source": [
        "Explanation:\n",
        "This Python code defines a function count_word_frequency that reads a text file, processes each line to extract words (ignoring punctuation and case), counts how many times each word appears using a Counter, and returns the word counts. The example usage creates a sample file and demonstrates how to use the function.\n",
        "\n"
      ],
      "metadata": {
        "id": "Ztsecp3xUnoT"
      }
    },
    {
      "cell_type": "markdown",
      "source": [
        "task3:Generate  a python class called book with attributes titles,author,and a method summary() that prints the details\n",
        "\n",
        "Prompt:generate a python class called Book with attributes,title,author,and method summary that prints details"
      ],
      "metadata": {
        "id": "sg8N9vu6VOy7"
      }
    },
    {
      "cell_type": "code",
      "source": [
        " Book:\n",
        "  \"\"\"Represents a book with a title and author.\"\"\"\n",
        "\n",
        "  def __init__(self, title, author):\n",
        "    \"\"\"Initializes a new Book instance.\"\"\"\n",
        "    self.titclassle = title\n",
        "    self.author = author\n",
        "\n",
        "  def summary(self):\n",
        "    \"\"\"Prints the details of the book.\"\"\"\n",
        "    print(f\"Title: {self.title}\")\n",
        "    print(f\"Author: {self.author}\")\n",
        "\n",
        "# Example usage:\n",
        "my_book = Book(\"The Hitchhiker's Guide to the Galaxy\", \"Douglas Adams\")\n",
        "my_book.summary()"
      ],
      "metadata": {
        "colab": {
          "base_uri": "https://localhost:8080/",
          "height": 110
        },
        "id": "EhIdxua2WA0M",
        "outputId": "f771f34f-efdb-45ed-9992-75b86b559592"
      },
      "execution_count": 3,
      "outputs": [
        {
          "output_type": "error",
          "ename": "SyntaxError",
          "evalue": "invalid syntax (ipython-input-3744884001.py, line 1)",
          "traceback": [
            "\u001b[0;36m  File \u001b[0;32m\"/tmp/ipython-input-3744884001.py\"\u001b[0;36m, line \u001b[0;32m1\u001b[0m\n\u001b[0;31m    Book:\u001b[0m\n\u001b[0m         ^\u001b[0m\n\u001b[0;31mSyntaxError\u001b[0m\u001b[0;31m:\u001b[0m invalid syntax\n"
          ]
        }
      ]
    },
    {
      "cell_type": "markdown",
      "source": [
        "Explanation:\n",
        "This code defines a Book class with title and author attributes. The summary() method prints these details. The example shows how to create a Book object and call its summary method. There's a small typo in the __init__ method (self.titclassle) that should be corrected to self.title"
      ],
      "metadata": {
        "id": "vqzcK8DHW_P3"
      }
    },
    {
      "cell_type": "markdown",
      "source": [
        "task4:write a python program that checks weather a number is an armstrong number.\n",
        "prompt:write a python program to check weather a given number is armstrong number."
      ],
      "metadata": {
        "id": "iUN4Py3GXNBf"
      }
    },
    {
      "cell_type": "code",
      "source": [
        "def is_armstrong_number(number):\n",
        "  \"\"\"\n",
        "  Checks if a given number is an Armstrong number.\n",
        "\n",
        "  An Armstrong number (or narcissistic number) is a number that is the sum of\n",
        "  its own digits each raised to the power of the number of digits.\n",
        "\n",
        "  Args:\n",
        "    number: An integer.\n",
        "\n",
        "  Returns:\n",
        "    True if the number is an Armstrong number, False otherwise.\n",
        "  \"\"\"\n",
        "  # Convert the number to a string to get the number of digits\n",
        "  num_str = str(number)\n",
        "  num_digits = len(num_str)\n",
        "  sum_of_powers = 0\n",
        "\n",
        "  # Calculate the sum of digits raised to the power of the number of digits\n",
        "  for digit in num_str:\n",
        "    sum_of_powers += int(digit) ** num_digits\n",
        "\n",
        "  # Check if the sum is equal to the original number\n",
        "  return sum_of_powers == number\n",
        "\n",
        "# Example usage:\n",
        "num_to_check = 153\n",
        "if is_armstrong_number(num_to_check):\n",
        "  print(f\"{num_to_check} is an Armstrong number.\")\n",
        "else:\n",
        "  print(f\"{num_to_check} is not an Armstrong number.\")\n",
        "\n",
        "num_to_check = 123\n",
        "if is_armstrong_number(num_to_check):\n",
        "  print(f\"{num_to_check} is an Armstrong number.\")\n",
        "else:\n",
        "  print(f\"{num_to_check} is not an Armstrong number.\")"
      ],
      "metadata": {
        "id": "cU0vkldgXvA4"
      },
      "execution_count": null,
      "outputs": []
    },
    {
      "cell_type": "markdown",
      "source": [
        "Explanation:\n",
        "This code defines a function is_armstrong_number that checks if a number is an Armstrong number by summing its digits raised to the power of the number of digits and comparing it to the original number. The example usage tests the function with sample numbers.\n",
        "\n"
      ],
      "metadata": {
        "id": "eLxTTZhiY4Xq"
      }
    },
    {
      "cell_type": "markdown",
      "source": [
        "Task5:generate a code for sorting a list of dictionaries by a specific key.\n",
        "Prompt:generate a python code to start list of dictionaries by a specific key."
      ],
      "metadata": {
        "id": "rAkk9iSYZCEb"
      }
    },
    {
      "cell_type": "code",
      "source": [
        "def sort_list_of_dicts(list_of_dicts, key):\n",
        "  \"\"\"\n",
        "  Sorts a list of dictionaries by a specific key.\n",
        "\n",
        "  Args:\n",
        "    list_of_dicts: A list of dictionaries.\n",
        "    key: The key to sort by.\n",
        "\n",
        "  Returns:\n",
        "    A new list of dictionaries sorted by the specified key.\n",
        "  \"\"\"\n",
        "  return sorted(list_of_dicts, key=lambda x: x[key])\n",
        "\n",
        "# Example usage:\n",
        "data = [\n",
        "    {'name': 'Alice', 'age': 30},\n",
        "    {'name': 'Bob', 'age': 25},\n",
        "    {'name': 'Charlie', 'age': 35}\n",
        "]\n",
        "\n",
        "sorted_data = sort_list_of_dicts(data, 'age')\n",
        "print(\"Sorted by age:\")\n",
        "print(sorted_data)\n",
        "\n",
        "sorted_data_name = sort_list_of_dicts(data, 'name')\n",
        "print(\"\\nSorted by name:\")\n",
        "print(sorted_data_name)"
      ],
      "metadata": {
        "id": "xFOBctDeZcvM"
      },
      "execution_count": null,
      "outputs": []
    },
    {
      "cell_type": "markdown",
      "source": [
        "Explanation:\n",
        "This code defines a function sort_list_of_dicts that sorts a list of dictionaries by a specific key using the sorted() function and a lambda function to specify the sorting key. The example usage demonstrates sorting by 'age' and 'name'."
      ],
      "metadata": {
        "id": "WhjG9NWNZ5nP"
      }
    }
  ]
}